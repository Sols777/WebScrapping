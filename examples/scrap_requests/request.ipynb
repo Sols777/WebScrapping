{
 "cells": [
  {
   "cell_type": "code",
   "execution_count": 16,
   "metadata": {},
   "outputs": [],
   "source": [
    "import requests\n",
    "from bs4 import BeautifulSoup"
   ]
  },
  {
   "cell_type": "code",
   "execution_count": 17,
   "metadata": {},
   "outputs": [],
   "source": [
    "URL = \"https://example.com\"\n",
    "\n",
    "# Locators\n",
    "TITLE = \"head title\"\n",
    "H1_LOCATOR = \"div h1\"\n",
    "P_LOCATOR = \"div p\"\n",
    "A_LOCATOR = \"div p a\""
   ]
  },
  {
   "cell_type": "code",
   "execution_count": 18,
   "metadata": {},
   "outputs": [],
   "source": [
    "page = requests.get(URL)"
   ]
  },
  {
   "cell_type": "code",
   "execution_count": 19,
   "metadata": {},
   "outputs": [],
   "source": [
    "# ini bs4\n",
    "soup = BeautifulSoup(page.content,'html.parser')\n"
   ]
  },
  {
   "cell_type": "markdown",
   "metadata": {},
   "source": [
    "####  functions\n"
   ]
  },
  {
   "cell_type": "code",
   "execution_count": 22,
   "metadata": {},
   "outputs": [],
   "source": [
    "def getH1():\n",
    "    name = soup.select_one(H1_LOCATOR).text\n",
    "    print(name)\n",
    "\n",
    "def getTitle():\n",
    "    name = soup.select_one(TITLE).text\n",
    "    print(name)\n",
    "\n",
    "def getLink():\n",
    "    name = soup.select_one(A_LOCATOR).attrs['href']\n",
    "    print(name)\n"
   ]
  },
  {
   "cell_type": "markdown",
   "metadata": {},
   "source": [
    "#### Call functions"
   ]
  },
  {
   "cell_type": "code",
   "execution_count": 24,
   "metadata": {},
   "outputs": [
    {
     "name": "stdout",
     "output_type": "stream",
     "text": [
      "Example Domain\n",
      "Example Domain\n",
      "https://www.iana.org/domains/example\n"
     ]
    }
   ],
   "source": [
    "# get h1\n",
    "getH1()\n",
    "# get title page\n",
    "getTitle()\n",
    "# get the link\n",
    "getLink()"
   ]
  }
 ],
 "metadata": {
  "kernelspec": {
   "display_name": "Python 3",
   "language": "python",
   "name": "python3"
  },
  "language_info": {
   "codemirror_mode": {
    "name": "ipython",
    "version": 3
   },
   "file_extension": ".py",
   "mimetype": "text/x-python",
   "name": "python",
   "nbconvert_exporter": "python",
   "pygments_lexer": "ipython3",
   "version": "3.11.9"
  }
 },
 "nbformat": 4,
 "nbformat_minor": 2
}

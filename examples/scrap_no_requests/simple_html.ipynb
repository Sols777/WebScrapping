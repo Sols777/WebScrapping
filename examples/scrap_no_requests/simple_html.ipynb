{
 "cells": [
  {
   "cell_type": "markdown",
   "metadata": {},
   "source": [
    "### IMPORTS"
   ]
  },
  {
   "cell_type": "code",
   "execution_count": 2,
   "metadata": {},
   "outputs": [],
   "source": [
    "from bs4 import BeautifulSoup"
   ]
  },
  {
   "cell_type": "markdown",
   "metadata": {},
   "source": [
    "### CONSTANTS/VARIABLES"
   ]
  },
  {
   "cell_type": "code",
   "execution_count": 116,
   "metadata": {},
   "outputs": [],
   "source": [
    "SIMPLE_HTML = '''\n",
    "    <!DOCTYPE html>\n",
    "    <html>\n",
    "        <head>\n",
    "            <meta charset=\"utf-8\">\n",
    "            <meta http-equiv=\"X-UA-Compatible\" content=\"IE=edge\">\n",
    "            <title>Primeiro Scrapping</title>\n",
    "            <meta name=\"description\" content=\"\">\n",
    "            <meta name=\"viewport\" content=\"width=device-width, initial-scale=1\">\n",
    "            <link rel=\"stylesheet\" href=\"\">\n",
    "        </head>\n",
    "        <body>\n",
    "            <h1>Welcome to BeautifullSoup4 Tutorial</h1>\n",
    "            <p>Eu sou esperto</p>\n",
    "            <p class=\"subtitle\">\n",
    "                Neste exemplo vamos aprender a utilizar o BS4 sem locators e sem requests!\n",
    "            </p>\n",
    "            <p>Vamos ficar experts nisto!</p>\n",
    "            <p class=\"something\">Aqui mais um texto!</p>\n",
    "            <p class=\"lorem\">Lorem ipsum dolor sit amet consectetur, adipisicing elit. Voluptatibus aperiam asperiores aliquid ut harum ex qui velit sed commodi maiores, dolores delectus, molestias fugiat ab illum assumenda nesciunt? Possimus, obcaecati?</p>\n",
    "            <ul>\n",
    "                <li>Sintaxe</li>\n",
    "                <li>Carateristicas</li>\n",
    "                <li>Vantages</li>\n",
    "                <li>Projetos</li>\n",
    "            </ul>\n",
    "        </body>\n",
    "    </html>\n",
    "'''"
   ]
  },
  {
   "cell_type": "markdown",
   "metadata": {},
   "source": [
    "### FUNCTIONS"
   ]
  },
  {
   "cell_type": "code",
   "execution_count": 117,
   "metadata": {},
   "outputs": [],
   "source": [
    "# ini bs4\n",
    "soup = BeautifulSoup(SIMPLE_HTML,'html.parser')\n"
   ]
  },
  {
   "cell_type": "code",
   "execution_count": 118,
   "metadata": {},
   "outputs": [],
   "source": [
    "def findH1():\n",
    "    #scrap title\n",
    "    h1_text = soup.find('h1').text #string\n",
    "    print(h1_text)"
   ]
  },
  {
   "cell_type": "code",
   "execution_count": 119,
   "metadata": {},
   "outputs": [],
   "source": [
    "def findListItems():\n",
    "    li_content = [li.text for li in soup.find_all('li')]\n",
    "    print(li_content)"
   ]
  },
  {
   "cell_type": "code",
   "execution_count": 120,
   "metadata": {},
   "outputs": [],
   "source": [
    "def findSubtitle():\n",
    "    subTitle_text = soup.find('p', class_='subtitle').text\n",
    "    print(subTitle_text)"
   ]
  },
  {
   "cell_type": "code",
   "execution_count": 121,
   "metadata": {},
   "outputs": [],
   "source": [
    "def findP():\n",
    "    p_content = [p.text for p in soup.find_all('p' , class_= None)]\n",
    "    print(p_content)"
   ]
  },
  {
   "cell_type": "code",
   "execution_count": 122,
   "metadata": {},
   "outputs": [],
   "source": [
    "def findAllPWithSpecificClass(listClass):\n",
    "    pList = [p.text for p in soup.find_all('p',class_= listClass)]\n",
    "    print(pList)"
   ]
  },
  {
   "cell_type": "code",
   "execution_count": 123,
   "metadata": {},
   "outputs": [
    {
     "name": "stdout",
     "output_type": "stream",
     "text": [
      "['Aqui mais um texto!', 'Lorem ipsum dolor sit amet consectetur, adipisicing elit. Voluptatibus aperiam asperiores aliquid ut harum ex qui velit sed commodi maiores, dolores delectus, molestias fugiat ab illum assumenda nesciunt? Possimus, obcaecati?']\n"
     ]
    }
   ],
   "source": [
    "# findH1()\n",
    "# print(25*'*')\n",
    "# findListItems()\n",
    "# print(25*'*')\n",
    "# findSubtitle()\n",
    "# devolver o texto de todos os paragrados que nao tenham classes\n",
    "# findP()\n",
    "findAllPWithSpecificClass([\"something\",\"lorem\"])"
   ]
  }
 ],
 "metadata": {
  "kernelspec": {
   "display_name": "Python 3",
   "language": "python",
   "name": "python3"
  },
  "language_info": {
   "codemirror_mode": {
    "name": "ipython",
    "version": 3
   },
   "file_extension": ".py",
   "mimetype": "text/x-python",
   "name": "python",
   "nbconvert_exporter": "python",
   "pygments_lexer": "ipython3",
   "version": "3.11.9"
  }
 },
 "nbformat": 4,
 "nbformat_minor": 2
}

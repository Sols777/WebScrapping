{
 "cells": [
  {
   "cell_type": "code",
   "execution_count": 80,
   "metadata": {},
   "outputs": [],
   "source": [
    "import re\n",
    "from bs4 import BeautifulSoup"
   ]
  },
  {
   "cell_type": "code",
   "execution_count": 81,
   "metadata": {},
   "outputs": [],
   "source": [
    "ITEM_HTML = '''\n",
    "<html>\n",
    "   <head>\n",
    "   </head>\n",
    "   <body>\n",
    "      <li class=\"col-xs-6 col-sm-4 col-md-3 col-lg-3\">\n",
    "         <article class=\"product_pod\">\n",
    "            <div class=\"image_container\">\n",
    "               <a href=\"catalogue/a-light-in-the-attic_1000/index.html\"><img src=\"media/cache/2c/da/2cdad67c44b002e7ead0cc35693c0e8b.jpg\" alt=\"A Light in the Attic\" class=\"thumbnail\"></a>\n",
    "            </div>\n",
    "            <p class=\"star-rating Three\">\n",
    "               <i class=\"icon-star\"></i>\n",
    "               <i class=\"icon-star\"></i>\n",
    "               <i class=\"icon-star\"></i>\n",
    "               <i class=\"icon-star\"></i>\n",
    "               <i class=\"icon-star\"></i>\n",
    "            </p>\n",
    "            <h3><a href=\"catalogue/a-light-in-the-attic_1000/index.html\" title=\"A Light in the Attic\">A Light in the ...</a></h3>\n",
    "            <div class=\"product_price\">\n",
    "               <p class=\"price_color\">£51.77</p>\n",
    "               <p class=\"instock availability\">\n",
    "                  <i class=\"icon-ok\"></i>\n",
    "                  In stock\n",
    "               </p>\n",
    "               <form>\n",
    "                  <button type=\"submit\" class=\"btn btn-primary btn-block\" data-loading-text=\"Adding...\">Add to basket</button>\n",
    "               </form>\n",
    "            </div>\n",
    "         </article>\n",
    "      </li>\n",
    "   </body>\n",
    "</html>\n",
    "'''"
   ]
  },
  {
   "cell_type": "code",
   "execution_count": 82,
   "metadata": {},
   "outputs": [],
   "source": [
    "# ini bs4\n",
    "soup = BeautifulSoup(ITEM_HTML,'html.parser')"
   ]
  },
  {
   "cell_type": "code",
   "execution_count": 83,
   "metadata": {},
   "outputs": [],
   "source": [
    "# locators\n",
    "BOOKNAMELOCATOR = \"li article.product_pod h3 a\"\n",
    "BOOKRATINGLOCATOR = \"li article.product_pod p\"\n",
    "BOOKPRICELOCATOR = \"li article.product_pod div.product_price p.price_color\""
   ]
  },
  {
   "cell_type": "code",
   "execution_count": 84,
   "metadata": {},
   "outputs": [],
   "source": [
    "# functions\n",
    "def getProductName():\n",
    "    name = soup.select_one(BOOKNAMELOCATOR).attrs['title']\n",
    "    print(name)"
   ]
  },
  {
   "cell_type": "code",
   "execution_count": 85,
   "metadata": {},
   "outputs": [],
   "source": [
    "def getProdLink():\n",
    "    name = soup.select_one(BOOKNAMELOCATOR).attrs['href']\n",
    "    print(name)"
   ]
  },
  {
   "cell_type": "code",
   "execution_count": 86,
   "metadata": {},
   "outputs": [],
   "source": [
    "def ratingNumber(rating):\n",
    "    match rating:\n",
    "        case 'One':\n",
    "            return 1\n",
    "        case 'Two':\n",
    "            return 2\n",
    "        case 'Three':\n",
    "            return 3\n",
    "        case 'Four':\n",
    "            return 4\n",
    "        case 'Five':\n",
    "            return 5\n",
    "    return None"
   ]
  },
  {
   "cell_type": "code",
   "execution_count": 87,
   "metadata": {},
   "outputs": [],
   "source": [
    "def getProdRating():\n",
    "    name = soup.select_one(BOOKRATINGLOCATOR).attrs['class']\n",
    "    return ratingNumber(name[1])"
   ]
  },
  {
   "cell_type": "code",
   "execution_count": 88,
   "metadata": {},
   "outputs": [],
   "source": [
    "def getProdPrice():\n",
    "    price = soup.select_one(BOOKPRICELOCATOR).text.strip('£')\n",
    "    return float(price)"
   ]
  },
  {
   "cell_type": "code",
   "execution_count": 89,
   "metadata": {},
   "outputs": [
    {
     "name": "stdout",
     "output_type": "stream",
     "text": [
      "51.77\n"
     ]
    }
   ],
   "source": [
    "# # # call functions\n",
    "# getProductName()\n",
    "# getProdLink()\n",
    "# print(getProdRating())\n",
    "# get prod price number\n",
    "print(getProdPrice())"
   ]
  }
 ],
 "metadata": {
  "kernelspec": {
   "display_name": "Python 3",
   "language": "python",
   "name": "python3"
  },
  "language_info": {
   "codemirror_mode": {
    "name": "ipython",
    "version": 3
   },
   "file_extension": ".py",
   "mimetype": "text/x-python",
   "name": "python",
   "nbconvert_exporter": "python",
   "pygments_lexer": "ipython3",
   "version": "3.11.9"
  }
 },
 "nbformat": 4,
 "nbformat_minor": 2
}
